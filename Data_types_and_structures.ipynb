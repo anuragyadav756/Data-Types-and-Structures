{
  "nbformat": 4,
  "nbformat_minor": 0,
  "metadata": {
    "colab": {
      "provenance": []
    },
    "kernelspec": {
      "name": "python3",
      "display_name": "Python 3"
    },
    "language_info": {
      "name": "python"
    }
  },
  "cells": [
    {
      "cell_type": "markdown",
      "source": [
        "#Data Types and Structures Assignment Questions"
      ],
      "metadata": {
        "id": "vqmqcm7RHZ_D"
      }
    },
    {
      "cell_type": "markdown",
      "source": [
        "##Data Types and Structures Questions"
      ],
      "metadata": {
        "id": "5G9BJluaH6za"
      }
    },
    {
      "cell_type": "markdown",
      "source": [
        "###1. What are data structures, and why are they important ?\n",
        "- Data structures are fundamental ways to organize and store data to enable efficient access and manipulation, and are important because they enable efficient algorithms and problem-solving in computer science."
      ],
      "metadata": {
        "id": "4hhoqCsaIBlx"
      }
    },
    {
      "cell_type": "markdown",
      "source": [
        "###2. Explain the difference between mutable and immutable data types with examples.\n",
        "- Mutable data types allow their values to be changed after creation, while immutable data types do not, meaning their values are fixed once created.\n",
        "Mutable Data Types:\n",
        "- Mutable data types are those whose values can be modified after they are created.\n",
        "Examples: [Lists , Dictionaries ,Sets]\n",
        "-Immutable Data Types: Immutable data types are those whose values cannot be changed after they are created.\n",
        "Examples:  [Strings , Tuples , Interger , Float]"
      ],
      "metadata": {
        "id": "Md9SHnKtIXKY"
      }
    },
    {
      "cell_type": "markdown",
      "source": [
        "###3. What are the main differences between lists and tuples in Python ?\n",
        "The main differences between lists and tuples in Python are as follows:\n",
        "- Tuples are immutable objects and lists are mutable objects.\n",
        "- Tuples have a fixed length and lists have a dynamic length.\n",
        "- Tuples use less memory and are faster to access than to lists.\n",
        "- Tuple syntax uses round brackets or parenthesis, and list syntax uses square brackets."
      ],
      "metadata": {
        "id": "yjaFfXPeKR-S"
      }
    },
    {
      "cell_type": "markdown",
      "source": [
        "###4. Describe how dictionaries store data.\n",
        "- Dictionaries are used to store data values in key:value pairs. A dictionary is a collection which is ordered*, changeable and do not allow duplicates. As of Python version 3.7, dictionaries are ordered. In Python 3.6 and earlier, dictionaries are unordered."
      ],
      "metadata": {
        "id": "7BlcLjP_K9VA"
      }
    },
    {
      "cell_type": "markdown",
      "source": [
        "###5. Why might you use a set instead of a list in Python ?\n",
        "- Because sets cannot have multiple occurrences of the same element, it makes sets highly useful to efficiently remove duplicate values from a list or tuple and to perform common math operations like unions and intersections."
      ],
      "metadata": {
        "id": "FDSxeJygLjf1"
      }
    },
    {
      "cell_type": "markdown",
      "source": [
        "###6. What is a string in Python, and how is it different from a list ?\n",
        "- Strings in Python are sequences of characters enclosed in quotes ('' or “”). Lists are ordered collections of items enclosed in square brackets [ ].\n",
        "- Strings are immutable, meaning they cannot be changed once created, while lists are mutable and can be modified as needed."
      ],
      "metadata": {
        "id": "UsIVStrGLx41"
      }
    },
    {
      "cell_type": "markdown",
      "source": [
        "###7.  How do tuples ensure data integrity in Python ?\n",
        "- Once created, tuples cannot be modified, which can prevent accidental changes to data. This feature is particularly useful when you want to ensure the integrity of your data."
      ],
      "metadata": {
        "id": "QiWZAsjaMHSh"
      }
    },
    {
      "cell_type": "markdown",
      "source": [
        "###8. What is a hash table, and how does it relate to dictionaries in Python ?\n",
        "- A hash table is a data structure that maps keys to values using a hash function, allowing for fast lookups. In Python, dictionaries are implemented using hash tables, enabling efficient storage and retrieval of key-value pairs."
      ],
      "metadata": {
        "id": "lrgJHbTdMYSe"
      }
    },
    {
      "cell_type": "markdown",
      "source": [
        "###9. Can lists contain different data types in Python ?\n",
        "- Yes, a list can also contain a mix of Python types including strings, floats, and booleans."
      ],
      "metadata": {
        "id": "1FjdGAvjMtkG"
      }
    },
    {
      "cell_type": "markdown",
      "source": [
        "###10. Explain why strings are immutable in Python.\n",
        "- In the String constant pool, a String object is likely to have more than one reference. If several references point to the same String without even knowing it, then it would be dangerous if any of the references modified that String value. This is why String objects are immutable."
      ],
      "metadata": {
        "id": "MPdaUFZ8M-eB"
      }
    },
    {
      "cell_type": "markdown",
      "source": [
        "###11. What advantages do dictionaries offer over lists for certain tasks ?\n",
        "- Dictionaries excel at tasks requiring fast lookups by key, while lists are better for ordered collections and sequence operations, offering different strengths for various data management needs.\n",
        "Here's a breakdown of the advantages dictionaries offer over lists for certain tasks:\n",
        "- Fast Lookups\n",
        "- Unordered Data\n",
        "- Associative Data\n",
        "- Flexibility\n",
        "- Memory Efficiency\n",
        "- Readability"
      ],
      "metadata": {
        "id": "XXLZtl7KNVkU"
      }
    },
    {
      "cell_type": "markdown",
      "source": [
        "###12. Describe a scenario where using a tuple would be preferable over a list.\n",
        "- If you have data that's not meant to be changed in the first place — such as critical information or records — you should choose tuple data type over lists. But if you know that the data will grow and shrink during the runtime of the application, you need to go with the list data type.\n"
      ],
      "metadata": {
        "id": "VtmDwylyOMwE"
      }
    },
    {
      "cell_type": "markdown",
      "source": [
        "###13. How do sets handle duplicate values in Python ?\n",
        " Handling Duplicate Values :\n",
        "- Drop duplicate rows data = data. drop_duplicates() # Print the updated DataFrame print(data)\n",
        "- Keep the first occurrence of the duplicates data = data. ...\n",
        "- Replace duplicate values with the median of the column data['salary'] = data."
      ],
      "metadata": {
        "id": "dLI2VSzEOjAc"
      }
    },
    {
      "cell_type": "markdown",
      "source": [
        "###14.  How does the “in” keyword work differently for lists and dictionaries ?\n",
        "- The \"in\" keyword in Python behaves differently when used with lists and dictionaries, primarily due to the underlying data structures and how they store and access data. Here's a breakdown:\n",
        "###Lists -\n",
        "-Behavior:\n",
        "When you use \"in\" with a list, Python iterates through the list's elements sequentially.\n",
        "-Time compatibility: The average and worst-case time complexity is O(n), where n is the number of elements in the list. This means that as the list grows larger, the time it takes to perform the \"in\" operation increases proportionally.\n",
        "\n",
        "###Dictionaries -\n",
        "- Behavior:When you use \"in\" with a dictionary, Python checks if the specified value exists as a key in the dictionary.\n",
        "- Time compatibility -The average time complexity for checking if a key exists in a dictionary is O(1) (constant time). This means that the time it takes to perform the \"in\" operation remains relatively constant, regardless of the size of the dictionary.\n"
      ],
      "metadata": {
        "id": "LOfVhSCAPXW_"
      }
    },
    {
      "cell_type": "markdown",
      "source": [
        "###15. Can you modify the elements of a tuple? Explain why or why not ?\n",
        "- In Python, tuples are immutable, which means that once a tuple is created, its elements cannot be changed.\n",
        "-\"Immutable\" means that after an object is created, its state cannot be modified. In the case of tuples, this means you cannot:\n",
        "-Add new elements.\n",
        "-Remove existing elements.\n",
        "- Change the value of existing elements."
      ],
      "metadata": {
        "id": "xlk5NV2kQ24m"
      }
    },
    {
      "cell_type": "markdown",
      "source": [
        "###16. What is a nested dictionary, and give an example of its use case ?\n",
        "- A nested dictionary in Python is essentially a dictionary that contains other dictionaries as its values. This allows you to create complex, hierarchical data structures, which can be very useful for organizing and representing structured information.\n",
        "A very common use case is representing user or student data, where you want to store multiple pieces of information that are themselves grouped.\n",
        "\n",
        "Here's an example of a nested dictionary used to store student information:"
      ],
      "metadata": {
        "id": "kNZQ8y1yRvlx"
      }
    },
    {
      "cell_type": "code",
      "source": [
        "students = {\n",
        "    \"Alice\": {\n",
        "        \"grades\": {\n",
        "            \"math\": 95,\n",
        "            \"science\": 92,\n",
        "            \"history\": 88\n",
        "        },\n",
        "        \"contact\": {\n",
        "            \"email\": \"alice@example.com\",\n",
        "            \"phone\": \"123-456-7890\"\n",
        "        }\n",
        "    },\n",
        "    \"Bob\": {\n",
        "        \"grades\": {\n",
        "            \"math\": 85,\n",
        "            \"science\": 90,\n",
        "            \"history\": 78\n",
        "        },\n",
        "        \"contact\": {\n",
        "            \"email\": \"bob@example.com\",\n",
        "            \"phone\": \"987-654-3210\"\n",
        "        }\n",
        "    }\n",
        "}\n",
        "\n",
        "# Accessing nested data:\n",
        "print(students[\"Alice\"][\"grades\"][\"math\"])  # Output: 95\n",
        "print(students[\"Bob\"][\"contact\"][\"email\"]) #output: bob@example.com"
      ],
      "metadata": {
        "id": "rSRhLFmjSKAg"
      },
      "execution_count": null,
      "outputs": []
    },
    {
      "cell_type": "markdown",
      "source": [
        "###17. Describe the time complexity of accessing elements in a dictionary.\n",
        "- Python dictionaries provide a fast and efficient way to store and retrieve data using key value pair so understanding the time complexities of dictionary operations is very important for optimizing performance in our programs.\n",
        "- The time complexity of retrieving a value by its key in a dictionary is O(1). This is because dictionaries use a hash table internally which allows constant time lookup."
      ],
      "metadata": {
        "id": "am94cnPDSP1I"
      }
    },
    {
      "cell_type": "markdown",
      "source": [
        "###18. In what situations are lists preferred over dictionaries ?\n",
        "While dictionaries offer fast lookups and key-value associations, lists are preferred in situations where:\n",
        "- Order matters\n",
        "- Sequential access\n",
        "- Simple Data storage\n",
        "- Duplicate elements\n",
        "- Small Datasets\n",
        "- When using stacks or queues\n",
        "- When representing a sequence of data"
      ],
      "metadata": {
        "id": "I3GyZSpeS6rH"
      }
    },
    {
      "cell_type": "markdown",
      "source": [
        "###19. Why are dictionaries considered unordered, and how does that affect data retrieval ?\n",
        "- Dictionaries are considered unordered because they don't inherently maintain the order in which elements are added; instead, they prioritize fast key-based access, meaning retrieval is based on the key, not a position or index.\n",
        "###How \"Unordered\" Affects Data Retrieval (and How it Doesn't Now):\n",
        "\n",
        "###Pre-Python 3.7:\n",
        "- No Indexing: Dictionaries could not be accessed using numerical indices like lists because there was no defined order. You had to use keys to retrieve values.\n",
        "- Iteration: If you needed to process dictionary elements in a specific sequence, you had to sort the keys or use other methods to impose an order.\n",
        "###Python 3.7+:\n",
        "- Indexing: Dictionaries still do not support numerical indexing. You must use keys.\n",
        "- Iteration: Iteration now consistently follows the insertion order.\n",
        "- Data retrieval: The fact that dictionaries are ordered now, does not change how data is retreived. Data is still retrieved by keys. The change simply makes the order of iteration predictable.\n",
        "###Core Principle:\n",
        "- The fundamental principle remains: dictionaries are optimized for fast key-based lookups.The preservation of insertion order is a helpful side effect, but the primary purpose of dictionaries is still efficient key-value associations.\n"
      ],
      "metadata": {
        "id": "2vliLa6STz2g"
      }
    },
    {
      "cell_type": "markdown",
      "source": [
        "###20. Explain the difference between a list and a dictionary in terms of data retrieval.\n",
        "- In terms of data retrieval, lists access elements by their numerical index (starting from 0), while dictionaries access elements by their unique, associated keys, offering significantly faster lookups for dictionaries.\n",
        "- A list is an ordered collection of items, whereas a dictionary is an unordered data collection in a key: value pair.\n",
        "- Elements from the list can be accessed using the index, while the elements of the dictionary can be accessed using keys."
      ],
      "metadata": {
        "id": "3DAuFhbEU9Ne"
      }
    },
    {
      "cell_type": "markdown",
      "source": [
        "##Practical Questions"
      ],
      "metadata": {
        "id": "0yJFt-2r81qx"
      }
    },
    {
      "cell_type": "code",
      "source": [
        "#Q.1. Write a code to create a string with your name and print it.\n",
        "\n",
        "my_name = \"anurag\"\n",
        "print(my_name)"
      ],
      "metadata": {
        "id": "uF0ODCGl860b"
      },
      "execution_count": null,
      "outputs": []
    },
    {
      "cell_type": "code",
      "source": [
        "#Q.2. Write a code to find the length of the string \"Hello World\".\n",
        "\n",
        "my_string = \"Hello World\"\n",
        "print(len(my_string))"
      ],
      "metadata": {
        "id": "27O-fEhB9k8F"
      },
      "execution_count": null,
      "outputs": []
    },
    {
      "cell_type": "code",
      "source": [
        "#Q.3. Write a code to slice the first 3 characters from the string \"Python Programming\".\n",
        "\n",
        "my_string = \"Python Programming\"\n",
        "sliced_string = my_string[:3]\n",
        "print(sliced_string)"
      ],
      "metadata": {
        "id": "VsdgRbgB9xgb"
      },
      "execution_count": null,
      "outputs": []
    },
    {
      "cell_type": "code",
      "source": [
        "#Q.4. Write a code to convert the string \"hello\" to uppercase.\n",
        "\n",
        "my_string = \"hello\"\n",
        "uppercase_string = my_string.upper()\n",
        "print(uppercase_string)"
      ],
      "metadata": {
        "id": "h0fnyhz0-pMx"
      },
      "execution_count": null,
      "outputs": []
    },
    {
      "cell_type": "code",
      "source": [
        "#Q.5. Write a code to replace the word \"apple\" with \"orange\" in the string \"I like apple\".\n",
        "\n",
        "my_string = \"I like apple\"\n",
        "new_string = my_string.replace(\"apple\", \"orange\")\n",
        "print(new_string)"
      ],
      "metadata": {
        "id": "9hsanAp1_aVC"
      },
      "execution_count": null,
      "outputs": []
    },
    {
      "cell_type": "code",
      "source": [
        "#Q.6. Write a code to create a list with numbers 1 to 5 and print it.\n",
        "\n",
        "my_list = [1, 2, 3, 4, 5]\n",
        "print(my_list)"
      ],
      "metadata": {
        "id": "i1BoTIIT_xQY"
      },
      "execution_count": null,
      "outputs": []
    },
    {
      "cell_type": "code",
      "source": [
        "#Q.7. Write a code to append the number 10 to the list [1, 2, 3, 4].\n",
        "\n",
        "my_list = [1, 2, 3, 4]\n",
        "my_list.append(10)\n",
        "print(my_list)"
      ],
      "metadata": {
        "id": "n57CnAvc_4_p"
      },
      "execution_count": null,
      "outputs": []
    },
    {
      "cell_type": "code",
      "source": [
        "#Q.8. Write a code to remove the number 3 from the list [1, 2, 3, 4, 5].\n",
        "\n",
        "my_list = [1, 2, 3, 4, 5]\n",
        "my_list.remove(3)\n",
        "print(my_list)"
      ],
      "metadata": {
        "id": "uX7rQU_vARhH"
      },
      "execution_count": null,
      "outputs": []
    },
    {
      "cell_type": "code",
      "source": [
        "#Q.9.  Write a code to access the second element in the list ['a', 'b', 'c', 'd'].\n",
        "\n",
        "my_list = ['a', 'b', 'c', 'd']\n",
        "second_element = my_list[1]\n",
        "print(second_element)"
      ],
      "metadata": {
        "id": "QouWBmfgAWXe"
      },
      "execution_count": null,
      "outputs": []
    },
    {
      "cell_type": "code",
      "source": [
        "#Q.10. Write a code to reverse the list [10, 20, 30, 40, 50].\n",
        "\n",
        "my_list = [10, 20, 30, 40, 50]\n",
        "my_list.reverse()\n",
        "print(my_list)"
      ],
      "metadata": {
        "id": "FPR11oP4AiPT"
      },
      "execution_count": null,
      "outputs": []
    },
    {
      "cell_type": "code",
      "source": [
        "#Q.11. Write a code to create a tuple with the elements 100, 200, 300 and print it.\n",
        "\n",
        "my_tuple = (100, 200, 300)\n",
        "print(my_tuple)"
      ],
      "metadata": {
        "id": "UZFZvMBOBGcU"
      },
      "execution_count": null,
      "outputs": []
    },
    {
      "cell_type": "code",
      "source": [
        "#Q.12. Write a code to access the second-to-last element of the tuple ('red', 'green', 'blue', 'yellow').\n",
        "\n",
        "my_tuple = ('red', 'green', 'blue', 'yellow')\n",
        "second_to_last_element = my_tuple[-2]\n",
        "print(second_to_last_element)"
      ],
      "metadata": {
        "id": "7puIQjliBXof"
      },
      "execution_count": null,
      "outputs": []
    },
    {
      "cell_type": "code",
      "source": [
        "#Q.13. Write a code to find the minimum number in the tuple (10, 20, 5, 15).\n",
        "\n",
        "my_tuple = (10, 20, 5, 15)\n",
        "min_number = min(my_tuple)\n",
        "print(min_number)"
      ],
      "metadata": {
        "id": "z3hQBnaTBnn5"
      },
      "execution_count": null,
      "outputs": []
    },
    {
      "cell_type": "code",
      "source": [
        "#Q.14. Write a code to find the index of the element \"cat\" in the tuple ('dog', 'cat', 'rabbit').\n",
        "\n",
        "my_tuple = ('dog', 'cat', 'rabbit')\n",
        "index_of_cat = my_tuple.index('cat')\n",
        "print(index_of_cat)"
      ],
      "metadata": {
        "id": "qqSxvahMBvcW"
      },
      "execution_count": null,
      "outputs": []
    },
    {
      "cell_type": "code",
      "source": [
        "#Q.15. Write a code to create a tuple containing three different fruits and check if \"kiwi\" is in it.\n",
        "\n",
        "my_tuple = ('apple', 'banana', 'orange')\n",
        "is_kiwi_in_tuple = 'kiwi' in my_tuple\n",
        "print(is_kiwi_in_tuple)"
      ],
      "metadata": {
        "id": "71cPwErJB_Ha"
      },
      "execution_count": null,
      "outputs": []
    },
    {
      "cell_type": "code",
      "source": [
        "#Q.16. Write a code to create a set with the elements 'a', 'b', 'c' and print it.\n",
        "\n",
        "my_set = {'a', 'b', 'c'}\n",
        "print(my_set)"
      ],
      "metadata": {
        "id": "7J0NsBuVCVid"
      },
      "execution_count": null,
      "outputs": []
    },
    {
      "cell_type": "code",
      "source": [
        "#Q.17. Write a code to clear all elements from the set {1, 2, 3, 4, 5}.\n",
        "\n",
        "my_set = {1, 2, 3, 4, 5}\n",
        "my_set.clear()\n",
        "print(my_set)"
      ],
      "metadata": {
        "id": "UqgG23RoCr3Q"
      },
      "execution_count": null,
      "outputs": []
    },
    {
      "cell_type": "code",
      "source": [
        "#Q.18. Write a code to remove the element 4 from the set {1, 2, 3, 4}.\n",
        "\n",
        "my_set = {1, 2, 3, 4}\n",
        "my_set.remove(4)\n",
        "print(my_set)"
      ],
      "metadata": {
        "id": "bfoinviXCz3s"
      },
      "execution_count": null,
      "outputs": []
    },
    {
      "cell_type": "code",
      "source": [
        "#Q.19. Write a code to find the union of two sets {1, 2, 3} and {3, 4, 5}.\n",
        "\n",
        "set1 = {1, 2, 3}\n",
        "set2 = {3, 4, 5}\n",
        "union_set = set1.union(set2)\n",
        "print(union_set)"
      ],
      "metadata": {
        "id": "vdG0_m1bC_hw"
      },
      "execution_count": null,
      "outputs": []
    },
    {
      "cell_type": "code",
      "source": [
        "#Q.20. Write a code to find the intersection of two sets {1, 2, 3} and {2, 3, 4}.\n",
        "\n",
        "set1 = {1, 2, 3}\n",
        "set2 = {2, 3, 4}\n",
        "intersection_set = set1.intersection(set2)\n",
        "print(intersection_set)"
      ],
      "metadata": {
        "id": "jQbAkeFnC_vC"
      },
      "execution_count": null,
      "outputs": []
    },
    {
      "cell_type": "code",
      "source": [
        "#Q.21.  Write a code to create a dictionary with the keys \"name\", \"age\", and \"city\", and print it.\n",
        "\n",
        "my_dict = {\"name\": \"John\", \"age\": 30, \"city\": \"New York\"}\n",
        "print(my_dict)"
      ],
      "metadata": {
        "id": "e9C_peIKEM2-"
      },
      "execution_count": null,
      "outputs": []
    },
    {
      "cell_type": "code",
      "source": [
        "#Q.22. Write a code to add a new key-value pair \"country\": \"USA\" to the dictionary {'name': 'John', 'age': 25}.\n",
        "\n",
        "my_dict = {'name': 'John', 'age': 25}\n",
        "my_dict[\"country\"] = \"USA\"\n",
        "print(my_dict)"
      ],
      "metadata": {
        "id": "t9btUYfEEM_d"
      },
      "execution_count": null,
      "outputs": []
    },
    {
      "cell_type": "code",
      "source": [
        "#Q.23. Write a code to access the value associated with the key \"name\" in the dictionary {'name': 'Alice', 'age': 30}.\n",
        "\n",
        "my_dict = {'name': 'Alice', 'age': 30}\n",
        "name_value = my_dict[\"name\"]\n",
        "print(name_value)"
      ],
      "metadata": {
        "id": "CCuafga1E6lI"
      },
      "execution_count": null,
      "outputs": []
    },
    {
      "cell_type": "code",
      "source": [
        "#Q.24. Write a code to remove the key \"age\" from the dictionary {'name': 'Bob', 'age': 22, 'city': 'New York'}.\n",
        "\n",
        "my_dict = {'name': 'Bob', 'age': 22, 'city': 'New York'}\n",
        "del my_dict[\"age\"]\n",
        "print(my_dict)"
      ],
      "metadata": {
        "id": "cmuiwxUPENJp"
      },
      "execution_count": null,
      "outputs": []
    },
    {
      "cell_type": "code",
      "source": [
        "#Q.25. Write a code to check if the key \"city\" exists in the dictionary {'name': 'Alice', 'city': 'Paris'}.\n",
        "\n",
        "my_dict = {'name': 'Alice', 'city': 'Paris'}\n",
        "is_city_in_dict = \"city\" in my_dict\n",
        "print(is_city_in_dict)"
      ],
      "metadata": {
        "id": "NMXRTNobFRzm"
      },
      "execution_count": null,
      "outputs": []
    },
    {
      "cell_type": "code",
      "source": [
        "#Q.26. Write a code to create a list, a tuple, and a dictionary, and print them all.\n",
        "\n",
        "my_list = [1, 2, 3]\n",
        "my_tuple = (4, 5, 6)\n",
        "my_dict = {\"name\": \"John\", \"age\": 30}\n",
        "print(my_list)\n",
        "print(my_tuple)\n",
        "print(my_dict)"
      ],
      "metadata": {
        "id": "y7Fw1yYuFR1F"
      },
      "execution_count": null,
      "outputs": []
    },
    {
      "cell_type": "code",
      "source": [
        "#Q.27. Write a code to create a list of 5 random numbers between 1 and 100, sort it in ascending order, and print the\n",
        "#result.\n",
        "\n",
        "import random\n",
        "\n",
        "random_numbers = [random.randint(1, 100) for _ in range(5)]\n",
        "random_numbers.sort()\n",
        "print(random_numbers)"
      ],
      "metadata": {
        "id": "T8-Khe70FxWS"
      },
      "execution_count": null,
      "outputs": []
    },
    {
      "cell_type": "code",
      "source": [
        "#Q.28. Write a code to create a list with strings and print the element at the third index.\n",
        "\n",
        "my_list = ['apple', 'banana', 'orange', 'grape', 'kiwi']\n",
        "third_element = my_list[2]\n",
        "print(third_element)"
      ],
      "metadata": {
        "id": "mTQMkZ16FxrP"
      },
      "execution_count": null,
      "outputs": []
    },
    {
      "cell_type": "code",
      "source": [
        "#Q.29. Write a code to combine two dictionaries into one and print the result.\n",
        "\n",
        "dict1 = {'name': 'John', 'age': 30}\n",
        "dict2 = {'city': 'New York', 'country': 'USA'}\n",
        "combined_dict = {**dict1, **dict2}\n",
        "print(combined_dict)"
      ],
      "metadata": {
        "id": "Iqi3gNpEGXRV"
      },
      "execution_count": null,
      "outputs": []
    },
    {
      "cell_type": "code",
      "source": [
        "#Q.30. Write a code to convert a list of strings into a set.\n",
        "\n",
        "string_list = ['apple', 'banana', 'orange', 'apple', 'banana']\n",
        "string_set = set(string_list)\n",
        "print(string_set)"
      ],
      "metadata": {
        "id": "vhiVOTFDGux4"
      },
      "execution_count": null,
      "outputs": []
    },
    {
      "cell_type": "markdown",
      "source": [],
      "metadata": {
        "id": "STx-4xlYUGNL"
      }
    }
  ]
}